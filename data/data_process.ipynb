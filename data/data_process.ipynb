{
 "cells": [
  {
   "cell_type": "code",
   "execution_count": 1,
   "metadata": {},
   "outputs": [],
   "source": [
    "'''\n",
    "*** This is a slightly modified version of the original data processing script available with the dataset\n",
    "\n",
    "This is the data processing script for POP909:A Pop song Dataset for Music Arrangement Generation\n",
    "============\n",
    "It will allow you to quickly process the POP909 Files (Midi) into the Google Magenta's music representation \n",
    "    as like [Music Transformer](https://magenta.tensorflow.org/music-transformer) \n",
    "            [Performance RNN](https://magenta.tensorflow.org/performance-rnn).\n",
    "\n",
    "'''\n",
    "import pickle\n",
    "import os\n",
    "import sys\n",
    "from helpers.midi import MidiEventProcessor\n",
    "import pretty_midi as pyd\n",
    "import numpy as np\n",
    "import tensorflow as tf\n",
    "\n",
    "#BASE_DIR = \"/home/rithomas\"\n",
    "BASE_DIR = \"/home/richhiey/Desktop/workspace/projects/virtual_musicians\"\n",
    "\n",
    "#DATA_DIR = os.path.join(BASE_DIR, \"data\", \"POP909-Dataset\", \"POP909\")\n",
    "DATA_DIR = os.path.join(BASE_DIR, \"data\", \"POP909-Dataset\", \"POP909\")\n",
    "\n",
    "#OUTPUT_DIR = os.path.join(BASE_DIR, \"cache\", \"preprocessed\", \"POP909\")\n",
    "OUTPUT_DIR = os.path.join(BASE_DIR, \"data\", \"preprocessed\")\n",
    "\n",
    "MIDI_EVENTS_PATH = os.path.join(OUTPUT_DIR, \"pop909-event-token.npy\")\n",
    "TFRECORD_DATASET = os.path.join(OUTPUT_DIR, \"tfrecords\", \"train.tfrecords\")"
   ]
  },
  {
   "cell_type": "code",
   "execution_count": 2,
   "metadata": {},
   "outputs": [],
   "source": [
    "if not os.path.exists(OUTPUT_DIR):\n",
    "    os.makedirs(OUTPUT_DIR, exist_ok=True)\n",
    "\n",
    "def prepare_midi_notes(notes):\n",
    "    for i in range(len(notes)):\n",
    "        notes[i].start = round(notes[i].start,2)    \n",
    "    notes.sort(key = lambda x:x.start)\n",
    "    return notes\n",
    "\n",
    "def preprocess_midi(path):\n",
    "    data = pyd.PrettyMIDI(path)    \n",
    "\n",
    "    mpr = MidiEventProcessor()\n",
    "    separated_notes = {}\n",
    "    repr_seq = {}\n",
    "    \n",
    "    for instr in data.instruments:\n",
    "        separated_notes[instr.name] = prepare_midi_notes(instr.notes)\n",
    "        repr_seq[instr.name] = mpr.encode(separated_notes[instr.name])\n",
    "        print(len(repr_seq[instr.name]))\n",
    "\n",
    "    return repr_seq\n",
    "\n",
    "def preprocess_pop909(midi_root, save_dir):\n",
    "    save_py = []\n",
    "    midi_paths = [d for d in os.listdir(midi_root)]\n",
    "    i = 0\n",
    "    out_fmt = '{}-{}.data'\n",
    "    for path in midi_paths:\n",
    "        if (path.isnumeric()):\n",
    "            print(' ', end='[{}]'.format(path), flush=True)\n",
    "            filename = midi_root + '/' + path + '/' + path + '.mid'\n",
    "            try:\n",
    "                data = preprocess_midi(filename)\n",
    "            except KeyboardInterrupt:\n",
    "                print(' Abort')\n",
    "                return\n",
    "            except EOFError:\n",
    "                print('EOF Error')\n",
    "                return\n",
    "            save_py.append(data)\n",
    "        \n",
    "    save_py = np.array(save_py)\n",
    "    print(save_py.size)\n",
    "    np.save(save_path, save_py)\n",
    "            \n",
    "    \n",
    "# replace the folder with your POP909 data folder\n",
    "#preprocess_pop909(DATA_DIR, OUTPUT_DIR)"
   ]
  },
  {
   "cell_type": "code",
   "execution_count": 3,
   "metadata": {},
   "outputs": [
    {
     "name": "stdout",
     "output_type": "stream",
     "text": [
      "(909,)\n"
     ]
    },
    {
     "ename": "FailedPreconditionError",
     "evalue": "Writer is closed.",
     "output_type": "error",
     "traceback": [
      "\u001b[0;31m---------------------------------------------------------------------------\u001b[0m",
      "\u001b[0;31mFailedPreconditionError\u001b[0m                   Traceback (most recent call last)",
      "\u001b[0;32m<ipython-input-3-88a74db446a4>\u001b[0m in \u001b[0;36m<module>\u001b[0;34m\u001b[0m\n\u001b[1;32m     18\u001b[0m             \u001b[0mfile_writer\u001b[0m\u001b[0;34m.\u001b[0m\u001b[0mclose\u001b[0m\u001b[0;34m(\u001b[0m\u001b[0;34m)\u001b[0m\u001b[0;34m\u001b[0m\u001b[0;34m\u001b[0m\u001b[0m\n\u001b[1;32m     19\u001b[0m \u001b[0;34m\u001b[0m\u001b[0m\n\u001b[0;32m---> 20\u001b[0;31m \u001b[0mcreate_tfrecord_dataset\u001b[0m\u001b[0;34m(\u001b[0m\u001b[0mTFRECORD_DATASET\u001b[0m\u001b[0;34m,\u001b[0m \u001b[0mmelody\u001b[0m\u001b[0;34m,\u001b[0m \u001b[0mpiano\u001b[0m\u001b[0;34m)\u001b[0m\u001b[0;34m\u001b[0m\u001b[0;34m\u001b[0m\u001b[0m\n\u001b[0m",
      "\u001b[0;32m<ipython-input-3-88a74db446a4>\u001b[0m in \u001b[0;36mcreate_tfrecord_dataset\u001b[0;34m(file_path, inputs, targets)\u001b[0m\n\u001b[1;32m     15\u001b[0m                 )\n\u001b[1;32m     16\u001b[0m             )\n\u001b[0;32m---> 17\u001b[0;31m             \u001b[0mfile_writer\u001b[0m\u001b[0;34m.\u001b[0m\u001b[0mwrite\u001b[0m\u001b[0;34m(\u001b[0m\u001b[0mexample\u001b[0m\u001b[0;34m.\u001b[0m\u001b[0mSerializeToString\u001b[0m\u001b[0;34m(\u001b[0m\u001b[0;34m)\u001b[0m\u001b[0;34m)\u001b[0m\u001b[0;34m\u001b[0m\u001b[0;34m\u001b[0m\u001b[0m\n\u001b[0m\u001b[1;32m     18\u001b[0m             \u001b[0mfile_writer\u001b[0m\u001b[0;34m.\u001b[0m\u001b[0mclose\u001b[0m\u001b[0;34m(\u001b[0m\u001b[0;34m)\u001b[0m\u001b[0;34m\u001b[0m\u001b[0;34m\u001b[0m\u001b[0m\n\u001b[1;32m     19\u001b[0m \u001b[0;34m\u001b[0m\u001b[0m\n",
      "\u001b[0;32m~/.local/lib/python3.8/site-packages/tensorflow/python/lib/io/tf_record.py\u001b[0m in \u001b[0;36mwrite\u001b[0;34m(self, record)\u001b[0m\n\u001b[1;32m    311\u001b[0m       \u001b[0mrecord\u001b[0m\u001b[0;34m:\u001b[0m \u001b[0mstr\u001b[0m\u001b[0;34m\u001b[0m\u001b[0;34m\u001b[0m\u001b[0m\n\u001b[1;32m    312\u001b[0m     \"\"\"\n\u001b[0;32m--> 313\u001b[0;31m     \u001b[0msuper\u001b[0m\u001b[0;34m(\u001b[0m\u001b[0mTFRecordWriter\u001b[0m\u001b[0;34m,\u001b[0m \u001b[0mself\u001b[0m\u001b[0;34m)\u001b[0m\u001b[0;34m.\u001b[0m\u001b[0mwrite\u001b[0m\u001b[0;34m(\u001b[0m\u001b[0mrecord\u001b[0m\u001b[0;34m)\u001b[0m\u001b[0;34m\u001b[0m\u001b[0;34m\u001b[0m\u001b[0m\n\u001b[0m\u001b[1;32m    314\u001b[0m \u001b[0;34m\u001b[0m\u001b[0m\n\u001b[1;32m    315\u001b[0m   \u001b[0;32mdef\u001b[0m \u001b[0mflush\u001b[0m\u001b[0;34m(\u001b[0m\u001b[0mself\u001b[0m\u001b[0;34m)\u001b[0m\u001b[0;34m:\u001b[0m\u001b[0;34m\u001b[0m\u001b[0;34m\u001b[0m\u001b[0m\n",
      "\u001b[0;31mFailedPreconditionError\u001b[0m: Writer is closed."
     ]
    }
   ],
   "source": [
    "pop909 = np.load(MIDI_EVENTS_PATH, allow_pickle=True)\n",
    "print(np.shape(pop909))\n",
    "melody = [song['MELODY'] for song in pop909]\n",
    "piano = [song['PIANO'] for song in pop909]\n",
    "\n",
    "def create_tfrecord_dataset(file_path, inputs, targets):\n",
    "    with tf.io.TFRecordWriter(file_path) as file_writer:\n",
    "        for x, y in zip(inputs, targets):\n",
    "            example = tf.train.Example(\n",
    "                features=tf.train.Features(\n",
    "                    feature={\n",
    "                        \"y\": tf.train.Feature(int64_list=tf.train.Int64List(value=y)),\n",
    "                        \"x\": tf.train.Feature(int64_list=tf.train.Int64List(value=x))\n",
    "                      }\n",
    "                )\n",
    "            )\n",
    "            file_writer.write(example.SerializeToString())\n",
    "            file_writer.close()\n",
    "\n",
    "create_tfrecord_dataset(TFRECORD_DATASET, melody, piano)"
   ]
  },
  {
   "cell_type": "code",
   "execution_count": null,
   "metadata": {},
   "outputs": [],
   "source": []
  }
 ],
 "metadata": {
  "kernelspec": {
   "display_name": "model_store_venv",
   "language": "python",
   "name": "model_store_venv"
  },
  "language_info": {
   "codemirror_mode": {
    "name": "ipython",
    "version": 3
   },
   "file_extension": ".py",
   "mimetype": "text/x-python",
   "name": "python",
   "nbconvert_exporter": "python",
   "pygments_lexer": "ipython3",
   "version": "3.8.5"
  }
 },
 "nbformat": 4,
 "nbformat_minor": 2
}
