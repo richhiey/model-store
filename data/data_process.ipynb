{
 "cells": [
  {
   "cell_type": "code",
   "execution_count": 1,
   "metadata": {},
   "outputs": [
    {
     "ename": "ModuleNotFoundError",
     "evalue": "No module named 'numpy'",
     "output_type": "error",
     "traceback": [
      "\u001b[0;31m---------------------------------------------------------------------------\u001b[0m",
      "\u001b[0;31mModuleNotFoundError\u001b[0m                       Traceback (most recent call last)",
      "\u001b[0;32m<ipython-input-1-b4780366b6d5>\u001b[0m in \u001b[0;36m<module>\u001b[0;34m\u001b[0m\n\u001b[1;32m     12\u001b[0m \u001b[0;32mimport\u001b[0m \u001b[0mos\u001b[0m\u001b[0;34m\u001b[0m\u001b[0;34m\u001b[0m\u001b[0m\n\u001b[1;32m     13\u001b[0m \u001b[0;32mimport\u001b[0m \u001b[0msys\u001b[0m\u001b[0;34m\u001b[0m\u001b[0;34m\u001b[0m\u001b[0m\n\u001b[0;32m---> 14\u001b[0;31m \u001b[0;32mfrom\u001b[0m \u001b[0mhelpers\u001b[0m\u001b[0;34m.\u001b[0m\u001b[0mmidi\u001b[0m \u001b[0;32mimport\u001b[0m \u001b[0mMidiEventProcessor\u001b[0m\u001b[0;34m\u001b[0m\u001b[0;34m\u001b[0m\u001b[0m\n\u001b[0m\u001b[1;32m     15\u001b[0m \u001b[0;32mimport\u001b[0m \u001b[0mpretty_midi\u001b[0m \u001b[0;32mas\u001b[0m \u001b[0mpyd\u001b[0m\u001b[0;34m\u001b[0m\u001b[0;34m\u001b[0m\u001b[0m\n\u001b[1;32m     16\u001b[0m \u001b[0;32mimport\u001b[0m \u001b[0mnumpy\u001b[0m \u001b[0;32mas\u001b[0m \u001b[0mnp\u001b[0m\u001b[0;34m\u001b[0m\u001b[0;34m\u001b[0m\u001b[0m\n",
      "\u001b[0;32m~/project/model-store/data/helpers/midi.py\u001b[0m in \u001b[0;36m<module>\u001b[0;34m\u001b[0m\n\u001b[1;32m      8\u001b[0m     \u001b[0;34m-\u001b[0m \u001b[0mEvent\u001b[0m \u001b[0mProcessor\u001b[0m\u001b[0;34m\u001b[0m\u001b[0;34m\u001b[0m\u001b[0m\n\u001b[1;32m      9\u001b[0m \"\"\"\n\u001b[0;32m---> 10\u001b[0;31m \u001b[0;32mimport\u001b[0m \u001b[0mnumpy\u001b[0m \u001b[0;32mas\u001b[0m \u001b[0mnp\u001b[0m\u001b[0;34m\u001b[0m\u001b[0;34m\u001b[0m\u001b[0m\n\u001b[0m\u001b[1;32m     11\u001b[0m \u001b[0;32mfrom\u001b[0m \u001b[0mabc\u001b[0m \u001b[0;32mimport\u001b[0m \u001b[0mABC\u001b[0m\u001b[0;34m,\u001b[0m \u001b[0mabstractmethod\u001b[0m\u001b[0;34m\u001b[0m\u001b[0;34m\u001b[0m\u001b[0m\n\u001b[1;32m     12\u001b[0m \u001b[0;32mimport\u001b[0m \u001b[0mpretty_midi\u001b[0m \u001b[0;32mas\u001b[0m \u001b[0mpyd\u001b[0m\u001b[0;34m\u001b[0m\u001b[0;34m\u001b[0m\u001b[0m\n",
      "\u001b[0;31mModuleNotFoundError\u001b[0m: No module named 'numpy'"
     ]
    }
   ],
   "source": [
    "'''\n",
    "*** This is a slightly modified version of the original data processing script available with the dataset\n",
    "\n",
    "This is the data processing script for POP909:A Pop song Dataset for Music Arrangement Generation\n",
    "============\n",
    "It will allow you to quickly process the POP909 Files (Midi) into the Google Magenta's music representation \n",
    "    as like [Music Transformer](https://magenta.tensorflow.org/music-transformer) \n",
    "            [Performance RNN](https://magenta.tensorflow.org/performance-rnn).\n",
    "\n",
    "'''\n",
    "import pickle\n",
    "import os\n",
    "import sys\n",
    "from helpers.midi import MidiEventProcessor\n",
    "import pretty_midi as pyd\n",
    "import numpy as np\n",
    "\n",
    "BASE_DIR = \"/home/rithomas\"\n",
    "DATA_DIR = os.path.join(BASE_DIR, \"data\", \"POP909-Dataset\", \"POP909\")\n",
    "OUTPUT_DIR = os.path.join(BASE_DIR, \"cache\", \"preprocessed\", \"POP909\")"
   ]
  },
  {
   "cell_type": "code",
   "execution_count": null,
   "metadata": {},
   "outputs": [],
   "source": [
    "if not os.path.exists(OUTPUT_DIR):\n",
    "    os.makedirs(OUTPUT_DIR, exist_ok=True)\n",
    "\n",
    "def prepare_midi_notes(notes):\n",
    "    for i in range(len(notes)):\n",
    "        notes[i].start = round(notes[i].start,2)    \n",
    "    notes.sort(key = lambda x:x.start)\n",
    "    return notes\n",
    "\n",
    "def preprocess_midi(path):\n",
    "    data = pyd.PrettyMIDI(path)    \n",
    "\n",
    "    mpr = MidiEventProcessor()\n",
    "    separated_notes = {}\n",
    "    repr_seq = {}\n",
    "    \n",
    "    for instr in data.instruments:\n",
    "        separated_notes[instr.name] = prepare_midi_notes(instr.notes)\n",
    "        repr_seq[instr.name] = mpr.encode(separated_notes[instr.name])\n",
    "        print(len(repr_seq[instr.name]))\n",
    "\n",
    "    return repr_seq\n",
    "\n",
    "def preprocess_pop909(midi_root, save_dir):\n",
    "    save_py = []\n",
    "    midi_paths = [d for d in os.listdir(midi_root)]\n",
    "    i = 0\n",
    "    out_fmt = '{}-{}.data'\n",
    "    for path in midi_paths:\n",
    "        print(' ', end='[{}]'.format(path), flush=True)\n",
    "        filename = midi_root + '/' + path + '/' + path + '.mid'\n",
    "        try:\n",
    "            data = preprocess_midi(filename)\n",
    "        except KeyboardInterrupt:\n",
    "            print(' Abort')\n",
    "            return\n",
    "        except EOFError:\n",
    "            print('EOF Error')\n",
    "            return\n",
    "        save_py.append(data)\n",
    "        \n",
    "    save_py = np.array(save_py)\n",
    "    print(save_py.size) \n",
    "    np.save(os.path.join(OUTPUT_DIR, \"pop909-event-token.npy\"), save_py)\n",
    "            \n",
    "    \n",
    "# replace the folder with your POP909 data folder\n",
    "preprocess_pop909(DATA_DIR, OUTPUT_DIR)"
   ]
  },
  {
   "cell_type": "code",
   "execution_count": null,
   "metadata": {},
   "outputs": [],
   "source": []
  }
 ],
 "metadata": {
  "kernelspec": {
   "display_name": "Python 3",
   "language": "python",
   "name": "python3"
  },
  "language_info": {
   "codemirror_mode": {
    "name": "ipython",
    "version": 3
   },
   "file_extension": ".py",
   "mimetype": "text/x-python",
   "name": "python",
   "nbconvert_exporter": "python",
   "pygments_lexer": "ipython3",
   "version": "3.6.9"
  }
 },
 "nbformat": 4,
 "nbformat_minor": 2
}
