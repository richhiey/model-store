{
 "cells": [
  {
   "cell_type": "code",
   "execution_count": 1,
   "metadata": {},
   "outputs": [
    {
     "name": "stdout",
     "output_type": "stream",
     "text": [
      "Model: \"functional_1\"\n",
      "_________________________________________________________________\n",
      "Layer (type)                 Output Shape              Param #   \n",
      "=================================================================\n",
      "input_1 (InputLayer)         [(16, 256)]               0         \n",
      "_________________________________________________________________\n",
      "embedding (Embedding)        (16, 256, 128)            49792     \n",
      "_________________________________________________________________\n",
      "rnn (RNN)                    (16, 256, 512)            1312768   \n",
      "_________________________________________________________________\n",
      "dense (Dense)                (16, 256, 389)            199557    \n",
      "=================================================================\n",
      "Total params: 1,562,117\n",
      "Trainable params: 1,562,117\n",
      "Non-trainable params: 0\n",
      "_________________________________________________________________\n",
      "Initializing from scratch.\n"
     ]
    }
   ],
   "source": [
    "from models.composer.generate import RNNGenerator\n",
    "import numpy as np\n",
    "import tensorflow as tf\n",
    "from tensorflow.python.ops import array_ops\n",
    "from data.preprocess import load_POP909_dataset_completor\n",
    "\n",
    "configs = {\n",
    "    'model_path': '/home/richhiey/Desktop/workspace/projects/virtual_musicians/cache/test_model5',\n",
    "    'vocab_size': 389,\n",
    "    'emb_size': 128,\n",
    "    'lstm_units': 512,\n",
    "    'dense_units': 64,\n",
    "    'max_timesteps': 256,\n",
    "    'rnn': {'num_units': 512, 'num_layers': 1, 'unit_type': 'lstm'},\n",
    "}\n",
    "\n",
    "g = RNNGenerator(configs)"
   ]
  },
  {
   "cell_type": "code",
   "execution_count": 2,
   "metadata": {
    "scrolled": true
   },
   "outputs": [
    {
     "name": "stdout",
     "output_type": "stream",
     "text": [
      "909\n",
      "<ShuffleDataset shapes: (None, 1, None), types: tf.int64>\n",
      "tf.Tensor(\n",
      "[[[355 355 355 ...   0   0   0]]\n",
      "\n",
      " [[355 355 355 ... 355 304 197]]], shape=(2, 1, 1277), dtype=int64)\n"
     ]
    }
   ],
   "source": [
    "DATA_PATH = '/home/richhiey/Desktop/workspace/projects/virtual_musicians/data-store/POP909-Dataset/data_process/pop909-event-token.npy'\n",
    "data = np.load(DATA_PATH, allow_pickle=True)\n",
    "print(len(data))\n",
    "melodies = [d['MELODY'] for d in data]\n",
    "dataset = load_POP909_dataset_completor(DATA_PATH, 'MELODY', 2)\n",
    "\n",
    "\n",
    "print(dataset)\n",
    "for x in dataset:\n",
    "    print(x)\n",
    "    break\n",
    "    \n",
    "\n",
    "#g.train(dataset, {'num_epochs':1, 'print_every': 3, 'save_every': 1000,})"
   ]
  },
  {
   "cell_type": "code",
   "execution_count": null,
   "metadata": {},
   "outputs": [],
   "source": []
  },
  {
   "cell_type": "code",
   "execution_count": null,
   "metadata": {},
   "outputs": [],
   "source": []
  },
  {
   "cell_type": "code",
   "execution_count": null,
   "metadata": {},
   "outputs": [],
   "source": []
  }
 ],
 "metadata": {
  "kernelspec": {
   "display_name": "Python 3",
   "language": "python",
   "name": "python3"
  },
  "language_info": {
   "codemirror_mode": {
    "name": "ipython",
    "version": 3
   },
   "file_extension": ".py",
   "mimetype": "text/x-python",
   "name": "python",
   "nbconvert_exporter": "python",
   "pygments_lexer": "ipython3",
   "version": "3.8.5"
  }
 },
 "nbformat": 4,
 "nbformat_minor": 4
}
