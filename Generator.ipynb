{
 "cells": [
  {
   "cell_type": "code",
   "execution_count": 1,
   "metadata": {},
   "outputs": [
    {
     "name": "stdout",
     "output_type": "stream",
     "text": [
      "/bin/bash: nvidia-smi: command not found\n",
      "Model: \"functional_1\"\n",
      "_________________________________________________________________\n",
      "Layer (type)                 Output Shape              Param #   \n",
      "=================================================================\n",
      "input_1 (InputLayer)         [(2, 256)]                0         \n",
      "_________________________________________________________________\n",
      "embedding (Embedding)        (2, 256, 128)             49792     \n",
      "_________________________________________________________________\n",
      "rnn (RNN)                    (2, 256, 512)             1312768   \n",
      "_________________________________________________________________\n",
      "dropout (Dropout)            (2, 256, 512)             0         \n",
      "_________________________________________________________________\n",
      "leaky_re_lu (LeakyReLU)      (2, 256, 512)             0         \n",
      "_________________________________________________________________\n",
      "dense (Dense)                (2, 256, 389)             199557    \n",
      "=================================================================\n",
      "Total params: 1,562,117\n",
      "Trainable params: 1,562,117\n",
      "Non-trainable params: 0\n",
      "_________________________________________________________________\n",
      "Initializing from scratch.\n"
     ]
    }
   ],
   "source": [
    "!nvidia-smi\n",
    "from models.composer.generate import RNNGenerator\n",
    "import numpy as np\n",
    "import tensorflow as tf\n",
    "from tensorflow.python.ops import array_ops\n",
    "from data.preprocess import load_POP909_dataset_completor\n",
    "from data.helpers.midi import MidiEventProcessor\n",
    "import pretty_midi\n",
    "from models.composer.helpers.utils import plot_piano_roll\n",
    "\n",
    "configs = {\n",
    "    'model_path': '/home/richhiey/Desktop/workspace/projects/virtual_musicians/cache/test_model5',\n",
    "    'vocab_size': 389,\n",
    "    'emb_size': 128,\n",
    "    'lstm_units': 512,\n",
    "    'dense_units': 64,\n",
    "    'max_timesteps': 256,\n",
    "    'batch_size': 2,\n",
    "    'rnn': {'num_units': 512, 'num_layers': 1, 'unit_type': 'lstm'},\n",
    "}\n",
    "\n",
    "g = RNNGenerator(configs)\n",
    "\n",
    "\n",
    "TRAINING = False"
   ]
  },
  {
   "cell_type": "code",
   "execution_count": 2,
   "metadata": {
    "scrolled": true
   },
   "outputs": [
    {
     "name": "stdout",
     "output_type": "stream",
     "text": [
      "909\n",
      "<ShuffleDataset shapes: (None, 1, None), types: tf.int64>\n",
      "tf.Tensor(\n",
      "[[[355 352 375 ... 355 315 200]]\n",
      "\n",
      " [[355 355 355 ...   0   0   0]]], shape=(2, 1, 1391), dtype=int64)\n"
     ]
    }
   ],
   "source": [
    "DATA_PATH = '/home/richhiey/Desktop/workspace/projects/virtual_musicians/data-store/POP909-Dataset/data_process/pop909-event-token.npy'\n",
    "data = np.load(DATA_PATH, allow_pickle=True)\n",
    "melodies = [d['MELODY'] for d in data]\n",
    "dataset = load_POP909_dataset_completor(DATA_PATH, 'MELODY', configs['batch_size'])\n",
    "\n",
    "print(len(data))\n",
    "print(dataset)\n",
    "\n",
    "for x in dataset:\n",
    "    print(x)\n",
    "    break"
   ]
  },
  {
   "cell_type": "code",
   "execution_count": 3,
   "metadata": {},
   "outputs": [
    {
     "name": "stdout",
     "output_type": "stream",
     "text": [
      "Model: \"functional_3\"\n",
      "_________________________________________________________________\n",
      "Layer (type)                 Output Shape              Param #   \n",
      "=================================================================\n",
      "input_2 (InputLayer)         [(1, 256)]                0         \n",
      "_________________________________________________________________\n",
      "embedding_1 (Embedding)      (1, 256, 128)             49792     \n",
      "_________________________________________________________________\n",
      "rnn_1 (RNN)                  (1, 256, 512)             1312768   \n",
      "_________________________________________________________________\n",
      "dropout_1 (Dropout)          (1, 256, 512)             0         \n",
      "_________________________________________________________________\n",
      "leaky_re_lu_1 (LeakyReLU)    (1, 256, 512)             0         \n",
      "_________________________________________________________________\n",
      "dense_1 (Dense)              (1, 256, 389)             199557    \n",
      "=================================================================\n",
      "Total params: 1,562,117\n",
      "Trainable params: 1,562,117\n",
      "Non-trainable params: 0\n",
      "_________________________________________________________________\n",
      "Initializing from scratch.\n"
     ]
    }
   ],
   "source": [
    "g = RNNGenerator(configs, TRAINING)\n",
    "#g.train(dataset, {'num_epochs':1, 'print_every': 3, 'save_every': 1000,})"
   ]
  },
  {
   "cell_type": "code",
   "execution_count": 6,
   "metadata": {},
   "outputs": [
    {
     "name": "stdout",
     "output_type": "stream",
     "text": [
      "tf.Tensor(\n",
      "[[355 355 355 355 355 355 355 355 355 355 355 355 355 355 355 355 355 347\n",
      "  378  71 300 374  70 257 199 299 198 370  71 300 199 371  70 280 198 276\n",
      "  367  68 300 196 366  66 277 194 370  70 334 198  71 280 199  70 307 198\n",
      "  364  66 281  63 256 194 355 285 191 331]], shape=(1, 64), dtype=int64)\n",
      "Num of Generated Steps: 512\n",
      "[355 355 355 355 355 355 355 355 355 355 355 355 355 355 355 355 355 347\n",
      " 378  71 300 374  70 257 199 299 198 370  71 300 199 371  70 280 198 276\n",
      " 367  68 300 196 366  66 277 194 370  70 334 198  71 280 199  70 307 198\n",
      " 364  66 281  63 256 194 355 285 191 331 115 150  79  16  97  51 282 240\n",
      "  53 211 285 241 281 106  44 305 215 163 300 112 347 264 249 322 225   8\n",
      "  46 351 253 264  39 126 342 385 375 249 120   4 141  77 194 101 258 144\n",
      " 187 148 250 195 305 101 323  41  42 229 101 227 146 219 286  40 188 104\n",
      " 169 259   4 373  45 210 188 179 213  18 187 333 119 276   9 314  15 227\n",
      " 343 296 220 313 257  96  99 235 254 142 333 140 240 291  30  54 386 319\n",
      " 158 386 186  25 110 257  79  42 259 176 264 195  87 232 108 344  63 362\n",
      " 344 101 239  13 203 379 350 114 190 162  34 171 378 125 190  31 388 234\n",
      " 329 205 319 324 309 363 262 248  21 167 113 255 220 115 270 171 251  46\n",
      " 207  85 153 174 194  87 333 160 367 189  77 345 211  24   4  25 143   7\n",
      " 386 285 317  21 149 135  44 360  51 149 117 330 250 220 295 186 337 101\n",
      " 297 153  84  97  70 116 252 264  90 216 331  59 138 339  49 144 140  74\n",
      " 134 142 256  99 151 100 355  24 334 162  15 131 259 346 179 318 363 229\n",
      " 102   8 302 151 351 250  93 254 201  83 312 245 359 337  35 368  70 120\n",
      "  76 272 223 374  84 284  51 337 354  47  69 314 287 101  93  70  52 180\n",
      " 313 322 264 199 215 161  35  95 325 383 211 373 363 133 238  45  80 313\n",
      " 100  26 379 377  47 332 385 243 130 244 302   9  81 360  24  18 303 158\n",
      "  86  75 154 217  39 259 239 253 161  61 210  61  10 175  17  19 132 349\n",
      "  50   2 152 355 194 349  32 249  26 254  71 370 358 123 141  57  12  43\n",
      " 167  28 351 285  78 259  22 151  38 153  73 380 136 291   4  68 148 325\n",
      " 292  36 254 267  77 150 363  36  11 277 202 220   3  71 285  71 262 345\n",
      " 187 353 350 336 243 198 387 166 124 297 255  59   5 336 170 345 328 187\n",
      "  87 181 253 245 274 208  47  86  18 304 119 358  46 220 333  27 254 371\n",
      " 176 282 337  29 233 366 177  85 150 138 208 336 116  57 374 157 273 121\n",
      " 111  22 364 288 115 239 119  45 361  54 178 310 263 191  54 339 111 300\n",
      " 350 343 322 309  96 100 102 379 365 318 338 175 351 335 156 196 254  63\n",
      " 244 220 288 239 334 149 294 327 203 124 106 174 349 264 201 162 231 228\n",
      "  82 117 275 284 372  70  52 344 267  43  58 313 129 197  34 199 286 357\n",
      "  19 116 109 144 301  81 268 247 150 168 213 269 363 295 345 197  59]\n",
      "[355 355 355 355 355 355 355 355 355 355 355 355 355 355 355 355 355 347\n",
      " 378  71 300 374  70 257 199 299 198 370  71 300 199 371  70 280 198 276\n",
      " 367  68 300 196 366  66 277 194 370  70 334 198  71 280 199  70 307 198\n",
      " 364  66 281  63 256 194 355 285 191 331 367  66 285 194 266 364  66 275\n",
      " 364  66 257 194 194 306 364  68 300 196 256 367  59 355 270 187 347 370\n",
      "  66 299 194 265 366  66 263 194 269  66 305 367  67 267 194 279 195 264\n",
      " 369  67 312 367  66 264 195 278 368  64 269 194 348 192 343 370  71 300\n",
      "  70 258 199 271 198 258 369  71 323 367  70 199 277 198  68 318 196 259\n",
      " 372  66 299 194 376  73 293 201 261 376  73 265 201 267 377  73 300 201\n",
      " 277 365  68 301 369  66 257 196 355 280 194 307 371  66 283 194 271 369\n",
      "  66 266 194 267 368  66 310 373  75 256 194 297 376  73 203 299 201 370\n",
      "  71 298 199 316  68 276  70 258 196 276 376  71 258 198 282 199 268 370\n",
      "  71 266 199 265 369  71 308 368  73 199 305 369  71 256 201 341 199 355\n",
      " 260 376  70 290 198 268 371  70 263 198 267  70 303 366  71 256 198 296\n",
      " 199 371  73 355 270 201 256 376  71 299 368  70 257 199 266 198 262  71\n",
      " 305 199 275 372  71 265 199 269  71 303 199 257 375  73 300 201 257 376\n",
      "  75 354 203 301  71 285 199 270 376  78 297 376  75 206 268 203 268 374\n",
      "  76 326 204 376  75 299 372  73 257 203 298 201 376  75 277 374  71 203\n",
      " 333 199 272 369  66 274 375  78 258 194 288 206 263  76 269 204 265 376\n",
      "  76 322 379  75 259 204 261 203 267 375  75 307 203 373  73 355 285 201\n",
      " 355 355 355 355 355 283 374  66 301 375  78 259 194 338 379  75 257 206\n",
      " 341 203 256  73 300 201 260 370  71 309 199 291  78 355 267 206 355 355\n",
      " 262 374  75 279 203  76 275 376  78 256 204 267 206 264  78 317 374  76\n",
      " 263 206 259 204 263 374  76 321 204 256 376  75 283 375  73 263 203 314\n",
      " 201 373  75 276 203 372  71 321 199 280 374  66 277 376  78 194 293 206\n",
      " 260 376  76 264 204 268  76 323 204 376  75 276 374  75 203 323 372  73\n",
      " 277 203 320 201 281 368  66 278 376  78 260 194 340 206 382  75 347 376\n",
      "  73 256 203 298 371  71 264 201 331 199 260 382  78 355 323 206 355 305\n",
      "  75 278 374  76 264 203 268 375]\n"
     ]
    },
    {
     "data": {
      "image/png": "[encoded data removed]",
      "text/plain": [
       "<Figure size 576x288 with 2 Axes>"
      ]
     },
     "metadata": {
      "needs_background": "light"
     },
     "output_type": "display_data"
    },
    {
     "data": {
      "image/png": "[encoded data removed]",
      "text/plain": [
       "<Figure size 576x288 with 2 Axes>"
      ]
     },
     "metadata": {
      "needs_background": "light"
     },
     "output_type": "display_data"
    }
   ],
   "source": [
    "midi_processor = MidiEventProcessor()\n",
    "\n",
    "def create_pm_object(notes):\n",
    "    pm_outputs = pretty_midi.PrettyMIDI()\n",
    "    # Create an Instrument instance for a cello instrument\n",
    "    instr_prog = pretty_midi.instrument_name_to_program('Cello')\n",
    "    instr = pretty_midi.Instrument(program=instr_prog)\n",
    "    instr.notes = notes\n",
    "    pm_outputs.instruments.append(instr)\n",
    "    return pm_outputs\n",
    "\n",
    "\n",
    "for x in dataset.take(6):\n",
    "    start_melody = x[0,:,:64]\n",
    "    continued = g.predict(start_melody, num_steps=512)\n",
    "    \n",
    "    generated_midi = midi_processor.decode(continued)\n",
    "    outputs_pm = create_pm_object(generated_midi)\n",
    "    \n",
    "    inpx = x[0,0,:512].numpy()\n",
    "    print(inpx)\n",
    "    #kjkjd\n",
    "    input_midi = midi_processor.decode(inpx)\n",
    "    inputs_pm = create_pm_object(input_midi)\n",
    "    \n",
    "    plot_piano_roll(outputs_pm, 50, 70)\n",
    "    plot_piano_roll(inputs_pm, 50, 70)\n",
    "\n",
    "    break"
   ]
  },
  {
   "cell_type": "code",
   "execution_count": 5,
   "metadata": {},
   "outputs": [
    {
     "data": {
      "text/plain": [
       "Reusing TensorBoard on port 6006 (pid 68846), started 0:04:41 ago. (Use '!kill 68846' to kill it.)"
      ]
     },
     "metadata": {},
     "output_type": "display_data"
    },
    {
     "data": {
      "text/html": [
       "\n",
       "      <iframe id=\"tensorboard-frame-7e8533e137eee5ee\" width=\"100%\" height=\"800\" frameborder=\"0\">\n",
       "      </iframe>\n",
       "      <script>\n",
       "        (function() {\n",
       "          const frame = document.getElementById(\"tensorboard-frame-7e8533e137eee5ee\");\n",
       "          const url = new URL(\"/\", window.location);\n",
       "          const port = 6006;\n",
       "          if (port) {\n",
       "            url.port = port;\n",
       "          }\n",
       "          frame.src = url;\n",
       "        })();\n",
       "      </script>\n",
       "    "
      ],
      "text/plain": [
       "<IPython.core.display.HTML object>"
      ]
     },
     "metadata": {},
     "output_type": "display_data"
    }
   ],
   "source": [
    "%load_ext tensorboard\n",
    "%tensorboard --logdir /home/richhiey/Desktop/workspace/projects/virtual_musicians/cache"
   ]
  },
  {
   "cell_type": "code",
   "execution_count": null,
   "metadata": {},
   "outputs": [],
   "source": []
  }
 ],
 "metadata": {
  "kernelspec": {
   "display_name": "model_store_venv",
   "language": "python",
   "name": "model_store_venv"
  },
  "language_info": {
   "codemirror_mode": {
    "name": "ipython",
    "version": 3
   },
   "file_extension": ".py",
   "mimetype": "text/x-python",
   "name": "python",
   "nbconvert_exporter": "python",
   "pygments_lexer": "ipython3",
   "version": "3.8.5"
  }
 },
 "nbformat": 4,
 "nbformat_minor": 4
}
